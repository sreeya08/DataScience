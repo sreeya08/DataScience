{
  "cells": [
    {
      "cell_type": "code",
      "execution_count": null,
      "metadata": {
        "colab": {
          "base_uri": "https://localhost:8080/",
          "height": 211
        },
        "id": "EfLbBRe0z3aX",
        "outputId": "7ba46927-4c6c-4091-eefc-e3445fbec460"
      },
      "outputs": [
        {
          "output_type": "error",
          "ename": "TypeError",
          "evalue": "unsupported operand type(s) for /: 'list' and 'list'",
          "traceback": [
            "\u001b[0;31m---------------------------------------------------------------------------\u001b[0m",
            "\u001b[0;31mTypeError\u001b[0m                                 Traceback (most recent call last)",
            "\u001b[0;32m<ipython-input-2-eebac08c3431>\u001b[0m in \u001b[0;36m<cell line: 0>\u001b[0;34m()\u001b[0m\n\u001b[1;32m      2\u001b[0m \u001b[0mdistance\u001b[0m\u001b[0;34m=\u001b[0m\u001b[0;34m[\u001b[0m\u001b[0;36m10\u001b[0m\u001b[0;34m,\u001b[0m\u001b[0;36m15\u001b[0m\u001b[0;34m,\u001b[0m\u001b[0;36m17\u001b[0m\u001b[0;34m,\u001b[0m\u001b[0;36m26\u001b[0m\u001b[0;34m]\u001b[0m\u001b[0;34m\u001b[0m\u001b[0;34m\u001b[0m\u001b[0m\n\u001b[1;32m      3\u001b[0m \u001b[0mtime\u001b[0m\u001b[0;34m=\u001b[0m\u001b[0;34m[\u001b[0m\u001b[0;36m.30\u001b[0m\u001b[0;34m,\u001b[0m\u001b[0;36m.47\u001b[0m\u001b[0;34m,\u001b[0m\u001b[0;36m.55\u001b[0m\u001b[0;34m,\u001b[0m\u001b[0;36m1.20\u001b[0m\u001b[0;34m]\u001b[0m\u001b[0;34m\u001b[0m\u001b[0;34m\u001b[0m\u001b[0m\n\u001b[0;32m----> 4\u001b[0;31m \u001b[0mspeed\u001b[0m\u001b[0;34m=\u001b[0m\u001b[0mdistance\u001b[0m\u001b[0;34m/\u001b[0m\u001b[0mtime\u001b[0m\u001b[0;34m\u001b[0m\u001b[0;34m\u001b[0m\u001b[0m\n\u001b[0m\u001b[1;32m      5\u001b[0m \u001b[0mprint\u001b[0m\u001b[0;34m(\u001b[0m\u001b[0mspeed\u001b[0m\u001b[0;34m)\u001b[0m\u001b[0;34m\u001b[0m\u001b[0;34m\u001b[0m\u001b[0m\n\u001b[1;32m      6\u001b[0m \u001b[0;31m#NOTE:list ds allows only operations on individual objects or elements\u001b[0m\u001b[0;34m\u001b[0m\u001b[0;34m\u001b[0m\u001b[0m\n",
            "\u001b[0;31mTypeError\u001b[0m: unsupported operand type(s) for /: 'list' and 'list'"
          ]
        }
      ],
      "source": [
        "#distance and time are list data structures\n",
        "distance=[10,15,17,26]\n",
        "time=[.30,.47,.55,1.20]\n",
        "speed=distance/time\n",
        "print(speed)\n",
        "#NOTE:list ds allows only operations on individual objects or elements\n",
        "#when u trying to perform operations on all elements at a time.it does not support"
      ]
    },
    {
      "cell_type": "code",
      "execution_count": null,
      "metadata": {
        "id": "MJGCIwb21Jre"
      },
      "outputs": [],
      "source": [
        "#create a numpy array to overcome drawbacks of list data structures\n",
        "import numpy as np\n",
        "distance=[[10,15],[17,26]]\n",
        "time=[[.30,.47],[.55,1.20]]\n",
        "np_distance=np.array(distance)\n",
        "print(np_distance)\n",
        "np_time=np.array(time)\n",
        "print(np_time)\n",
        "speed=np_distance/np_time\n",
        "print(speed)\n",
        "print(speed.shape)\n",
        "print(speed.size)"
      ]
    },
    {
      "cell_type": "code",
      "execution_count": null,
      "metadata": {
        "id": "C0uSMVIE2b4I"
      },
      "outputs": [],
      "source": [
        "print(np_distance.ndim)\n",
        "print(np_distance.shape)\n",
        "print(np_distance.dtype)\n",
        "print(np_distance.size)\n"
      ]
    },
    {
      "cell_type": "code",
      "execution_count": null,
      "metadata": {
        "id": "PDCMO5BwOqVD"
      },
      "outputs": [],
      "source": [
        "speed=np_distance/np_time\n",
        "print(speed)"
      ]
    },
    {
      "cell_type": "markdown",
      "metadata": {
        "id": "3p8xjbZkM_dl"
      },
      "source": [
        "#Date:12/12/2024\n",
        "#NUMPY HANDSON PROGRAMS\n",
        "    LIST TO ARRAYS\n",
        "    ARRAY INDEXING\n",
        "    ARRAY SLICING\n",
        "    ARRAY RESHAPING"
      ]
    },
    {
      "cell_type": "code",
      "execution_count": null,
      "metadata": {
        "id": "Z4VQG8fjOFuo"
      },
      "outputs": [],
      "source": [
        "#CREATE 1 DIM ARRAY\n",
        "data=[100,200,300,400] #list ds\n"
      ]
    },
    {
      "cell_type": "code",
      "execution_count": null,
      "metadata": {
        "id": "unPczPClVLbv"
      },
      "outputs": [],
      "source": [
        "from numpy import array\n",
        "data1_np=array(data)\n"
      ]
    },
    {
      "cell_type": "code",
      "execution_count": null,
      "metadata": {
        "id": "2FYQdAxaPMCw"
      },
      "outputs": [],
      "source": [
        "print(\"data created by list ds\",data)\n",
        "print(\"data created by numpy\",data1_np)"
      ]
    },
    {
      "cell_type": "code",
      "execution_count": null,
      "metadata": {
        "id": "Mp8nX0-TQgd_"
      },
      "outputs": [],
      "source": [
        "#properties of 1d array\n",
        "print(data1_np.ndim)\n",
        "print(data1_np.shape)\n",
        "print(data1_np.size)\n",
        "print(data1_np.dtype)"
      ]
    },
    {
      "cell_type": "code",
      "execution_count": null,
      "metadata": {
        "id": "l6SDnTBoT1CD"
      },
      "outputs": [],
      "source": [
        "#1d indexing\n",
        "print(data1_np[0])\n",
        "print(data1_np[-1])\n",
        "print(data1_np[0:4])"
      ]
    },
    {
      "cell_type": "code",
      "execution_count": null,
      "metadata": {
        "id": "24qBT3L6PlXG"
      },
      "outputs": [],
      "source": [
        "#create a 2 DIM array using list datastructure\n",
        "data_2d_list=[[10,20],[30,40]] #nested list\n",
        "print(data_2d_list)\n"
      ]
    },
    {
      "cell_type": "code",
      "execution_count": null,
      "metadata": {
        "id": "5sMDQWmrQHVL"
      },
      "outputs": [],
      "source": [
        "\n",
        "data_2d_np=array(data_2d_list)\n",
        "print(data_2d_np)"
      ]
    },
    {
      "cell_type": "code",
      "execution_count": null,
      "metadata": {
        "id": "wodN2xYJQW8Z"
      },
      "outputs": [],
      "source": [
        "#properties of 2d array\n",
        "print(data_2d_np.ndim)\n",
        "print(data_2d_np.shape)\n",
        "print(data_2d_np.size)\n",
        "print(data_2d_np.dtype)"
      ]
    },
    {
      "cell_type": "code",
      "execution_count": null,
      "metadata": {
        "id": "FmdjC0LNRtIw"
      },
      "outputs": [],
      "source": [
        "#2D DATA ARRAY INDEXING\n",
        "print(data_2d_np[0,0])\n",
        "print(data_2d_np[1,1])\n",
        "print(data_2d_np[0,1])\n",
        "print(data_2d_np[1,0])\n",
        "print(data_2d_np[-1,-2])\n",
        "print(data_2d_np[0:2, 0:3])\n"
      ]
    },
    {
      "cell_type": "code",
      "execution_count": null,
      "metadata": {
        "id": "0cUqAfQBc8qw"
      },
      "outputs": [],
      "source": [
        "print(data_2d_np[1,])#display 1st row\n",
        "print(data_2d_np[,2])#to overcome this drawback we need to go with slice operator"
      ]
    },
    {
      "cell_type": "code",
      "execution_count": null,
      "metadata": {
        "id": "YF7418vZdiVT"
      },
      "outputs": [],
      "source": [
        "print(data_2d_np[0:1,0:1])\n",
        "print(data_2d_np[0:2,0:2])"
      ]
    },
    {
      "cell_type": "code",
      "execution_count": null,
      "metadata": {
        "id": "DSNwqO7eh9Xw"
      },
      "outputs": [],
      "source": [
        "# 2D slicing data using Numpy\n",
        "from numpy import array\n",
        "data=array([[11,22,33],\n",
        "           [44,55,66],\n",
        "           [77,88,99]])\n",
        "#extract 11 from the above data\n",
        "print(data[0:1,0:1]) #before , : indicates from which row to which row\n",
        "#extract 44 from the data\n",
        "print(data[1:2,0:1])"
      ]
    },
    {
      "cell_type": "code",
      "execution_count": null,
      "metadata": {
        "id": "lfW2xtcJznOw"
      },
      "outputs": [],
      "source": [
        "#extract 55 from the data\n",
        "print(data[1:2,1:2])"
      ]
    },
    {
      "cell_type": "code",
      "execution_count": null,
      "metadata": {
        "id": "aImtdc7qz9Kt"
      },
      "outputs": [],
      "source": [
        "#extract 99 from the data\n",
        "print(data[2:3,2:3])"
      ]
    },
    {
      "cell_type": "code",
      "execution_count": null,
      "metadata": {
        "id": "LGQyouvD0UUb"
      },
      "outputs": [],
      "source": [
        "#extract all the rows and columns from the data\n",
        "print(data[0:3,0:3])"
      ]
    },
    {
      "cell_type": "code",
      "execution_count": null,
      "metadata": {
        "id": "CN6qRvvU0w40"
      },
      "outputs": [],
      "source": [
        "#extract 2nd row and all the elements to display\n",
        "print(data[2:3,0:3]) #or data[2,:]\n",
        "print(data[2,:])\n"
      ]
    },
    {
      "cell_type": "code",
      "execution_count": null,
      "metadata": {
        "id": "v0LrwHT212X1"
      },
      "outputs": [],
      "source": [
        "#extract 2nd column and all rows elements\n",
        "from numpy import vstack\n",
        "vdata=data[:,2]\n",
        "print(vstack(vdata))\n",
        "print(data[0:3,2:3])"
      ]
    },
    {
      "cell_type": "code",
      "execution_count": null,
      "metadata": {
        "id": "SZQ7ErKE3QA7"
      },
      "outputs": [],
      "source": [
        "#split dataset for supervised learning algorithm as train dataset and test dataset\n",
        "#first input features:split all the rows and all columns except last column\n",
        "#target column as all the rows and last column"
      ]
    },
    {
      "cell_type": "code",
      "execution_count": null,
      "metadata": {
        "colab": {
          "base_uri": "https://localhost:8080/"
        },
        "id": "RjMOCDEV4ET5",
        "outputId": "3794497e-778d-4897-8b57-3315884bcfaf"
      },
      "outputs": [
        {
          "output_type": "stream",
          "name": "stdout",
          "text": [
            "[[ 1  2  3  8  9]\n",
            " [ 4  5  6  7  6]\n",
            " [ 7  8  9  1  2]\n",
            " [10 11 12  3  6]\n",
            " [14 15 16 17 18]]\n"
          ]
        }
      ],
      "source": [
        "from numpy import array\n",
        "dataset=array([[1,2,3,8,9],\n",
        "              [4,5,6,7,6],\n",
        "              [7,8,9,1,2],\n",
        "              [10,11,12,3,6],\n",
        "              [14,15,16,17,18]])\n",
        "print(dataset[0:5,0:5])"
      ]
    },
    {
      "cell_type": "code",
      "execution_count": null,
      "metadata": {
        "colab": {
          "base_uri": "https://localhost:8080/"
        },
        "id": "5u63tLsA5hlt",
        "outputId": "0c13dc77-d5f8-464d-83c9-f43f732a3d04"
      },
      "outputs": [
        {
          "output_type": "stream",
          "name": "stdout",
          "text": [
            "method1\n",
            "\n",
            "[[ 1  2  3  8]\n",
            " [ 4  5  6  7]\n",
            " [ 7  8  9  1]\n",
            " [10 11 12  3]\n",
            " [14 15 16 17]]\n",
            "method2\n",
            "\n",
            "[[ 1  2  3  8]\n",
            " [ 4  5  6  7]\n",
            " [ 7  8  9  1]\n",
            " [10 11 12  3]\n",
            " [14 15 16 17]]\n"
          ]
        }
      ],
      "source": [
        "#first input features:split all the rows and all columns except last column\n",
        "#method 1:\n",
        "print(\"method1\\n\")\n",
        "print(dataset[0:5,0:4])\n",
        "#method 2:\n",
        "print(\"method2\\n\")\n",
        "print(dataset[:,:-1])"
      ]
    },
    {
      "cell_type": "code",
      "execution_count": null,
      "metadata": {
        "colab": {
          "base_uri": "https://localhost:8080/"
        },
        "id": "tqZDrG8S7J4q",
        "outputId": "cf515f74-a1a0-41a1-dcc1-d1017fdd3067"
      },
      "outputs": [
        {
          "output_type": "stream",
          "name": "stdout",
          "text": [
            "method1\n",
            "\n",
            "[[ 9]\n",
            " [ 6]\n",
            " [ 2]\n",
            " [ 6]\n",
            " [18]]\n",
            "method2\n",
            "\n",
            "[ 9  6  2  6 18]\n"
          ]
        }
      ],
      "source": [
        "#target column as all the rows and last column\n",
        "#traditional method\n",
        "print(\"method1\\n\")\n",
        "print(dataset[0:5,4:5])\n",
        "#method2:\n",
        "print(\"method2\\n\")\n",
        "print(dataset[:,-1])\n"
      ]
    },
    {
      "cell_type": "code",
      "execution_count": null,
      "metadata": {
        "colab": {
          "base_uri": "https://localhost:8080/"
        },
        "id": "Y3x4g3oQ71Vh",
        "outputId": "90ff3399-7003-463c-c3ac-da9fae17ee7b"
      },
      "outputs": [
        {
          "output_type": "stream",
          "name": "stdout",
          "text": [
            "[[ 9]\n",
            " [ 6]\n",
            " [ 2]\n",
            " [ 6]\n",
            " [18]]\n"
          ]
        }
      ],
      "source": [
        "from numpy import vstack\n",
        "print(vstack(dataset[0:5,4:5]))"
      ]
    },
    {
      "cell_type": "code",
      "execution_count": null,
      "metadata": {
        "id": "UUPQ4fe68S7y"
      },
      "outputs": [],
      "source": [
        "#split as train data sample and test data\n",
        "split=3"
      ]
    },
    {
      "cell_type": "code",
      "execution_count": null,
      "metadata": {
        "colab": {
          "base_uri": "https://localhost:8080/"
        },
        "id": "dekEKMZ_8ljW",
        "outputId": "629147dc-3724-4285-cd27-8d981ad01ded"
      },
      "outputs": [
        {
          "output_type": "stream",
          "name": "stdout",
          "text": [
            "[[1 2 3 8 9]\n",
            " [4 5 6 7 6]\n",
            " [7 8 9 1 2]]\n"
          ]
        }
      ],
      "source": [
        "#train data:split dataset as well as the rows from the begining to the split point\n",
        "#method1\n",
        "print(dataset[0:split,:])\n",
        "#method2"
      ]
    },
    {
      "cell_type": "code",
      "execution_count": null,
      "metadata": {
        "colab": {
          "base_uri": "https://localhost:8080/"
        },
        "id": "MMW7IpB1-F6F",
        "outputId": "ca16cee1-2e7e-48e1-bd3a-ca015d82c87e"
      },
      "outputs": [
        {
          "output_type": "stream",
          "name": "stdout",
          "text": [
            "[[10 11 12  3  6]\n",
            " [14 15 16 17 18]]\n"
          ]
        }
      ],
      "source": [
        "#test data: all the rows starting from the split point to the end of dimension\n",
        "print(dataset[split:5,:])#"
      ]
    },
    {
      "cell_type": "code",
      "execution_count": null,
      "metadata": {
        "colab": {
          "base_uri": "https://localhost:8080/"
        },
        "id": "vBjkreHU-p9E",
        "outputId": "83b91229-0dd3-4084-8ff8-9ea41e5ccd89"
      },
      "outputs": [
        {
          "output_type": "stream",
          "name": "stdout",
          "text": [
            "(5,)\n"
          ]
        }
      ],
      "source": [
        "#reshaping array\n",
        "data=array([1,2,3,4,5])\n",
        "print(data.shape)"
      ]
    },
    {
      "cell_type": "code",
      "execution_count": null,
      "metadata": {
        "colab": {
          "base_uri": "https://localhost:8080/"
        },
        "id": "SOxbU0l5-3Hr",
        "outputId": "27e2b62c-a1db-4600-c132-1d3a310fa7e8"
      },
      "outputs": [
        {
          "output_type": "stream",
          "name": "stdout",
          "text": [
            "(2, 3)\n",
            "2\n",
            "3\n"
          ]
        }
      ],
      "source": [
        "#2D array\n",
        "d2_data=array([[10,20,50],\n",
        "              [30,40,60]])\n",
        "print(d2_data.shape)\n",
        "print(d2_data.shape[0])\n",
        "print(d2_data.shape[1])"
      ]
    },
    {
      "cell_type": "code",
      "execution_count": null,
      "metadata": {
        "id": "nV-IdnDE_P5F"
      },
      "outputs": [],
      "source": [
        "#demo about reshape() method\n",
        "from numpy import array\n",
        "dataset3=array([[1,2,3],\n",
        "               [4,5,6],\n",
        "               [7,8,9]])\n"
      ]
    },
    {
      "cell_type": "code",
      "execution_count": null,
      "metadata": {
        "colab": {
          "base_uri": "https://localhost:8080/"
        },
        "id": "-tUjApT-AZWs",
        "outputId": "0c1e8c06-26dc-453d-bbf5-3101ee3ea971"
      },
      "outputs": [
        {
          "output_type": "stream",
          "name": "stdout",
          "text": [
            "[[1 2 3 4 5 6 7 8 9]]\n",
            "[[1 2 3]\n",
            " [4 5 6]\n",
            " [7 8 9]]\n"
          ]
        }
      ],
      "source": [
        "#write a code to reshape dataset3 into 1 row and 9 columns using reshaping method\n",
        "dataset4_reshaped=dataset3.reshape((1,9))\n",
        "print(dataset4_reshaped)\n",
        "print(dataset3)"
      ]
    },
    {
      "cell_type": "code",
      "execution_count": null,
      "metadata": {
        "colab": {
          "base_uri": "https://localhost:8080/"
        },
        "id": "7u5B2RZrBMrt",
        "outputId": "74236421-f3c4-48fb-b43f-6eb69ea80ff5"
      },
      "outputs": [
        {
          "output_type": "stream",
          "name": "stdout",
          "text": [
            "(3, 3)\n",
            "(1, 9)\n"
          ]
        }
      ],
      "source": [
        "print(dataset3.shape)\n",
        "print(dataset4_reshaped.shape)"
      ]
    },
    {
      "cell_type": "code",
      "execution_count": null,
      "metadata": {
        "id": "FQ5EveE8BikQ"
      },
      "outputs": [],
      "source": [
        "#write a code to reshape dataset3 into 9 row and 1 column using reshaping method\n",
        "dataset5_reshaped=dataset.reshape((9,1))\n",
        "print(dataset5_reshaped)"
      ]
    },
    {
      "cell_type": "code",
      "execution_count": null,
      "metadata": {
        "id": "PUdbSwtXHhBS"
      },
      "outputs": [],
      "source": [
        "#Qsn-1\n",
        "#Create a numpy array and print array by using list L,L is already defined.\n",
        "L=[2,3,46,1,6,4,767,23,98,34,23,67,55,33,87,45,23,12,98,45,3,23,56,98,87,65,45,33,22,11,79,13,48,54,17,74,38,61,93,57,83,90,13,43,55,87,13,96,77,23,65,97,2,5]\n",
        "array_L=array(L)\n",
        "print(array_L)"
      ]
    },
    {
      "cell_type": "code",
      "execution_count": null,
      "metadata": {
        "id": "ZVKvjr40KyEp"
      },
      "outputs": [],
      "source": [
        "#Qsn-2\n",
        "#Create a numpy array with the following\n",
        "'''1. Elements from 'm' to 'n'-------m&n is already defined\n",
        "2. Print Only Even numbers\n",
        "3. Data type is float'''\n",
        "import numpy as np\n",
        "m = 3\n",
        "n = 201\n",
        "# Create an array with elements from m to n\n",
        "arr = np.arange(m, n + 1, dtype=float)\n",
        "# Filter for even numbers\n",
        "even_arr = arr[arr % 2 == 0]\n",
        "# Print the even array\n",
        "print(even_arr)\n"
      ]
    },
    {
      "cell_type": "code",
      "execution_count": null,
      "metadata": {
        "id": "FZEP8B-JN9sk"
      },
      "outputs": [],
      "source": [
        "#Qn-3:\n",
        "'''1. Create 1 Dimension array A\n",
        "2. Reshape A with 4 dimensions\n",
        "        1D = 2 Elements\n",
        "        2D = 3 Elements\n",
        "        3D = 4 Elements\n",
        "        4D = 5 Elements\n",
        "2. Data type is int32\n",
        "3. Display A'''\n",
        "import numpy as np\n",
        "\n",
        "# Create a 1D array A\n",
        "A = np.array([1, 2, 3, 4 , 5, 6, 7, 8, 9, 10, 11, 12, 13, 14])\n",
        "\n",
        "# reshape A with 4 dimensions\n",
        "A_1d = A.reshape([1, 2])\n",
        "A_2d = A.reshape[3, 4, 5]\n",
        "A_3d = A.reshape[6, 7, 8, 9]\n",
        "A_4d = A.reshape[10, 11, 12, 13, 14]\n",
        "\n",
        "# Set the data type to int32\n",
        "A_ = A.astype('int32')\n",
        "\n",
        "# Display A\n",
        "print(\"1D Array A:\")\n",
        "print(A)\n",
        "\n",
        "\n"
      ]
    },
    {
      "cell_type": "code",
      "execution_count": null,
      "metadata": {
        "id": "9lbKT0IJS2MM"
      },
      "outputs": [],
      "source": [
        "# Q4:Create a numpy array using List1(List1 is already defined).\n",
        "#Print the elements in reverse order by using slicing\n",
        "from numpy import array\n",
        "List1=[2,3,46,1,6,4,767,23,98,34,23,67,55,33,87,45,23,12,98,45,3,23,56,98,87,65,45,33,22,11,79,13,48,54,17,74,38,61,93,57,83,90,13,43,55,87,13,96,77,23,65,97,2,5]\n",
        "array_List1=array(List1)\n",
        "print(array_List1[::-1])\n"
      ]
    },
    {
      "cell_type": "code",
      "execution_count": null,
      "metadata": {
        "id": "3UAqvUxNUYWQ"
      },
      "outputs": [],
      "source": [
        "# Q5:Create a numpy array by using 'm' & reshape it into 4*4 matrix.\n",
        "#Print 2*2 matrix using slicing.\n",
        "import numpy as np\n",
        "\n",
        "m = np.array(range(1, 17))\n",
        "\n",
        "matrix = np.reshape(m, (4, 4))\n",
        "\n",
        "print(\"Original 4x4 Matrix:\")\n",
        "print(matrix)\n",
        "\n",
        "print(\"\\n2x2 Matrix:\")\n",
        "sub_matrix = matrix[0:2, 0:2]\n",
        "print(sub_matrix)\n",
        "\n"
      ]
    },
    {
      "cell_type": "code",
      "execution_count": null,
      "metadata": {
        "id": "Rhw1NjtnUdgb"
      },
      "outputs": [],
      "source": [
        "#Qsn-6:\n",
        "'''A and B are 2 pre-defined lists.\n",
        "Consider the given lists and create arrays a, b of numpy\n",
        "Apply the arithmetic operators like +,-,*,/,% on them\n",
        "Display the output as given in the sample output.'''\n",
        "import numpy as np\n",
        "A=[4,3,6,8,2,9,1,45,34,87,22,98,34,62,71,23,67,37,82,45,11,23,37,47,98]\n",
        "B=[5,8,67,43,22,54,33,12,36,73,89,32,12,67,44,87,33,65,22,89,22,39,22,44,33]\n",
        "a=np.array(A)\n",
        "b=np.array(B)\n",
        "print(\"Addition:\",a+b)\n",
        "print(\"Subraction:\",a-b)\n",
        "print(\"Multiplication:\",a*b)\n",
        "print(\"Division:\",a/b)\n",
        "print(\"Modulo:\",a%b)\n"
      ]
    },
    {
      "cell_type": "code",
      "execution_count": null,
      "metadata": {
        "id": "JOcM18QPYwMf"
      },
      "outputs": [],
      "source": [
        "#Q7:Create a numpy array using 'm'.convert 'm' into the dimension 3X3X3 using arange()\n",
        "#Create a View with second row of each element of 0th dimension\n",
        "#Display the View\n",
        "m=27\n"
      ]
    },
    {
      "cell_type": "markdown",
      "metadata": {
        "id": "UKV7gkJuAhta"
      },
      "source": [
        "## TOPIC:NUMPY\n",
        "#1.limitation of array arithmetic\n",
        "#2.array broad casting\n",
        "#3.broadcasting in numpy\n",
        "#4.limitations of broadcasting"
      ]
    },
    {
      "cell_type": "code",
      "execution_count": null,
      "metadata": {
        "id": "vCuSgl2tAi4m"
      },
      "outputs": [],
      "source": [
        "#limitation of arithmetic using array\n",
        "from numpy import array\n",
        "a=[1,2,3]\n",
        "b=[4,5,6]\n",
        "c=a+b\n",
        "print(c)"
      ]
    },
    {
      "cell_type": "code",
      "execution_count": null,
      "metadata": {
        "id": "DaSKntaSA2Wl"
      },
      "outputs": [],
      "source": [
        "#array broadcasting\n",
        "x=array([1,2,3,4,5])\n",
        "print(x)"
      ]
    },
    {
      "cell_type": "code",
      "execution_count": null,
      "metadata": {
        "id": "EGRGBJnCBBRB"
      },
      "outputs": [],
      "source": [
        "y=array([4,5,6,7,8])\n",
        "print(y)"
      ]
    },
    {
      "cell_type": "code",
      "execution_count": null,
      "metadata": {
        "id": "WldunQk3BLK9"
      },
      "outputs": [],
      "source": [
        "#broadcast\n",
        "res=x+y\n",
        "print(res)"
      ]
    },
    {
      "cell_type": "code",
      "execution_count": null,
      "metadata": {
        "id": "gxY_RixvBfDH"
      },
      "outputs": [],
      "source": [
        "#broadcast scalar to 1D Array\n",
        "A=array([[1,2,3],\n",
        "        [4,5,6],\n",
        "        [8,8,9]])\n",
        "print(A)\n",
        "B=2\n",
        "#broadcast\n",
        "c=A*B\n",
        "print(c)"
      ]
    },
    {
      "cell_type": "code",
      "execution_count": null,
      "metadata": {
        "id": "3z9EskDrLgzW"
      },
      "outputs": [],
      "source": [
        "#limitation of broadcasting\n",
        "g=array([[1,2,3],\n",
        "         [4,5,6]])\n",
        "h=array([1,2])\n",
        "print(g.shape)\n",
        "print(h.shape)\n",
        "res=g+h\n",
        "print(res)"
      ]
    },
    {
      "cell_type": "code",
      "execution_count": null,
      "metadata": {
        "colab": {
          "base_uri": "https://localhost:8080/"
        },
        "id": "sRnBy9ynMdJr",
        "outputId": "c002d67e-c422-4a64-ff7b-dde9b1380917"
      },
      "outputs": [
        {
          "output_type": "stream",
          "name": "stdout",
          "text": [
            "[16. 22.]\n"
          ]
        }
      ],
      "source": [
        "#note:broadcasting is possible only when shape of each dimension in the arrays are equal or one has dimension size is 1\n",
        "import numpy as np\n",
        "a=np.array([[3,3.2],[3.5,3.6]])\n",
        "b=np.array([118.4,135.2])\n",
        "x=np.linalg.solve(a,b)\n",
        "print(x)"
      ]
    },
    {
      "cell_type": "markdown",
      "metadata": {
        "id": "CVnex9n-ckzY"
      },
      "source": [
        "# Chapter-6:Types of Matrices\n",
        "1.Square matrix\n",
        "2.Symmetric Matrix\n",
        "3.Triangular Matrix"
      ]
    },
    {
      "cell_type": "code",
      "execution_count": null,
      "metadata": {
        "colab": {
          "base_uri": "https://localhost:8080/"
        },
        "id": "k5RYwDmjeSgP",
        "outputId": "230a7a69-f675-449e-e62e-3fb2fa505bcd"
      },
      "outputs": [
        {
          "output_type": "stream",
          "name": "stdout",
          "text": [
            "[[501, 'venkat'], [502, 'anu']]\n",
            "[[['501' 'venkat']\n",
            "  ['502' 'anu']]]\n",
            "3\n",
            "(1, 2, 2)\n",
            "4\n",
            "<U21\n"
          ]
        }
      ],
      "source": [
        "from numpy import array\n",
        "#define square 2x2 matrix\n",
        "list1=[[501,\"venkat\"],[502,\"anu\"]]\n",
        "'''A=array([[1,2],\n",
        "        [3,4]])'''\n",
        "A=array([list1])\n",
        "print(list1)\n",
        "print(A)\n",
        "print(A.ndim)\n",
        "print(A.shape)\n",
        "print(A.size)\n",
        "print(A.dtype)\n"
      ]
    },
    {
      "cell_type": "markdown",
      "metadata": {
        "id": "FFNQXKqxpYWV"
      },
      "source": [
        "#2.Symmetric Matrix"
      ]
    },
    {
      "cell_type": "code",
      "execution_count": null,
      "metadata": {
        "colab": {
          "base_uri": "https://localhost:8080/"
        },
        "id": "JOc3hpNmplb8",
        "outputId": "80d5aaa0-d9cd-46e6-d512-4c1efa2ff10c"
      },
      "outputs": [
        {
          "output_type": "stream",
          "name": "stdout",
          "text": [
            "[[1 2 3]\n",
            " [2 1 2]\n",
            " [3 2 1]]\n",
            "[[1 2 3]\n",
            " [2 1 2]\n",
            " [3 2 1]]\n"
          ]
        }
      ],
      "source": [
        "A=array([[1,2,3],\n",
        "         [2,1,2],\n",
        "         [3,2,1]])\n",
        "print(A)\n",
        "#transpose A\n",
        "Aprime = A.T\n",
        "print(Aprime)"
      ]
    },
    {
      "cell_type": "code",
      "execution_count": null,
      "metadata": {
        "colab": {
          "base_uri": "https://localhost:8080/"
        },
        "id": "MvEFdVj4pflf",
        "outputId": "a272f655-b02d-4bf7-aaf1-b59ec1a66650"
      },
      "outputs": [
        {
          "output_type": "stream",
          "name": "stdout",
          "text": [
            "[[4 5 6]\n",
            " [5 7 8]\n",
            " [6 8 4]]\n",
            "[[4 5 6]\n",
            " [5 7 8]\n",
            " [6 8 4]]\n"
          ]
        }
      ],
      "source": [
        "from numpy import array\n",
        "A=array([[4,5,6],\n",
        "        [5,7,8],\n",
        "        [6,8,4]])\n",
        "print(A)\n",
        "print(A.T)"
      ]
    },
    {
      "cell_type": "markdown",
      "metadata": {
        "id": "VpXsxS07vfq_"
      },
      "source": [
        "#Pandas\n",
        "#Date:4/01/2025"
      ]
    },
    {
      "cell_type": "code",
      "execution_count": null,
      "metadata": {
        "colab": {
          "base_uri": "https://localhost:8080/"
        },
        "id": "plBufjO_Z7ee",
        "outputId": "cab328dd-536d-48ef-bbf7-bba2af919383"
      },
      "outputs": [
        {
          "output_type": "stream",
          "name": "stdout",
          "text": [
            "0    1\n",
            "1    2\n",
            "2    3\n",
            "3    4\n",
            "dtype: int64\n",
            "\n",
            "\n",
            "0      sreeya\n",
            "1     shresta\n",
            "2    supritha\n",
            "3     mahitha\n",
            "4       divya\n",
            "dtype: object\n",
            "2      sreeya\n",
            "3     shresta\n",
            "4    supritha\n",
            "5     mahitha\n",
            "6       divya\n",
            "dtype: object\n"
          ]
        }
      ],
      "source": [
        "import pandas as pd\n",
        "import numpy as np\n",
        "import os\n",
        "#create series with list\n",
        "list1=[1,2,3,4]\n",
        "s=pd.Series(list1)\n",
        "print(s)\n",
        "\n",
        "print(\"\\n\")\n",
        "\n",
        "#create series without usage of list data structure\n",
        "s1=pd.Series([\"sreeya\",\"shresta\",\"supritha\",\"mahitha\",\"divya\"])\n",
        "print(s1)\n",
        "\n",
        "#create series along with index in customised manner\n",
        "s2=pd.Series([\"sreeya\",\"shresta\",\"supritha\",\"mahitha\",\"divya\"],index=[2,3,4,5,6])\n",
        "print(s2)"
      ]
    },
    {
      "cell_type": "code",
      "execution_count": null,
      "metadata": {
        "id": "CBongPb-vkHA"
      },
      "outputs": [],
      "source": [
        "#data frame is the set of series become data frame\n",
        "#data frame is 2D data which means that its look like table\n",
        "import pandas as pd\n",
        "\n"
      ]
    },
    {
      "cell_type": "code",
      "execution_count": null,
      "metadata": {
        "colab": {
          "base_uri": "https://localhost:8080/"
        },
        "id": "TkVS_cwqv7OQ",
        "outputId": "1c7aed20-9e64-4f3b-c31c-588f0718f86c"
      },
      "outputs": [
        {
          "output_type": "stream",
          "name": "stdout",
          "text": [
            "Empty DataFrame\n",
            "Columns: [NAME, COURSE, LOCATION]\n",
            "Index: []\n",
            "           NAME COURSE   LOCATION\n",
            "0     DR.VENKAT   AIML  HYDERABAD\n",
            "1     Mr.Tharun    AWS  HYDERABAD\n",
            "2  Mrs.Sindhuja    FSJ  HYDERABAD\n"
          ]
        }
      ],
      "source": [
        "df1=pd.DataFrame(columns=[\"NAME\",\"COURSE\",\"LOCATION\"])\n",
        "print(df1)\n",
        "df1.loc[0]=[\"DR.VENKAT\",\"AIML\",\"HYDERABAD\"]\n",
        "df1.loc[1]=[\"Mr.Tharun\",\"AWS\",\"HYDERABAD\"]\n",
        "df1.loc[2]=[\"Mrs.Sindhuja\",\"FSJ\",\"HYDERABAD\"]\n",
        "print(df1)"
      ]
    },
    {
      "cell_type": "code",
      "execution_count": null,
      "metadata": {
        "colab": {
          "base_uri": "https://localhost:8080/"
        },
        "id": "i0wltAhUNfnJ",
        "outputId": "70698719-6fd3-4f0f-c33b-4fb511fc6523"
      },
      "outputs": [
        {
          "output_type": "stream",
          "name": "stdout",
          "text": [
            "Empty DataFrame\n",
            "Columns: [NAME, COURSE, LOCATION, DURATION]\n",
            "Index: []\n",
            "         NAME            COURSE   LOCATION  DURATION\n",
            "0      SREEYA       DATASCIENCE  HYDERABAD  5 MONTHS\n",
            "1     SHRESTA     CYBERSECURITY  HYDERABAD  5 MONTHS\n",
            "2    SUPRITHA    JAVA FULLSTACK  HYDERABAD  5 MONTHS\n",
            "3  DEEKSHITHA  PYTHON FULLSTACK  HYDERABAD  5 MONTHS\n",
            "4       DIVYA          SELENIUM  HYDERABAD  5 MONTHS\n"
          ]
        }
      ],
      "source": [
        "import pandas as pd\n",
        "df4=pd.DataFrame(columns=[\"NAME\",\"COURSE\",\"LOCATION\",\"DURATION\"])\n",
        "print(df4)\n",
        "df4.loc[0]=[\"SREEYA\",\"DATASCIENCE\",\"HYDERABAD\",\"5 MONTHS\"]\n",
        "df4.loc[1]=[\"SHRESTA\",\"CYBERSECURITY\",\"HYDERABAD\",\"5 MONTHS\"]\n",
        "df4.loc[2]=[\"SUPRITHA\",\"JAVA FULLSTACK\",\"HYDERABAD\",\"5 MONTHS\"]\n",
        "df4.loc[3]=[\"DEEKSHITHA\",\"PYTHON FULLSTACK\",\"HYDERABAD\",\"5 MONTHS\"]\n",
        "df4.loc[4]=[\"DIVYA\",\"SELENIUM\",\"HYDERABAD\",\"5 MONTHS\"]\n",
        "print(df4)"
      ]
    },
    {
      "cell_type": "code",
      "execution_count": null,
      "metadata": {
        "colab": {
          "base_uri": "https://localhost:8080/"
        },
        "id": "rLPLGgm_v7Xc",
        "outputId": "e34b293b-26d0-470b-e816-64813c99b762"
      },
      "outputs": [
        {
          "output_type": "stream",
          "name": "stdout",
          "text": [
            "     NAME            COURSE LOCATION\n",
            "0   SRINI               IOT      HYD\n",
            "1  MANISH  EMBEDDED SYSTEMS      HYD\n"
          ]
        }
      ],
      "source": [
        "#create a dataframe from a list of nested values\n",
        "list2=[[\"SRINI\",\"IOT\",\"HYD\"],[\"MANISH\",\"EMBEDDED SYSTEMS\",\"HYD\"]]\n",
        "df2=pd.DataFrame(list2,columns=[\"NAME\",\"COURSE\",\"LOCATION\"])\n",
        "print(df2)"
      ]
    },
    {
      "cell_type": "code",
      "execution_count": null,
      "metadata": {
        "colab": {
          "base_uri": "https://localhost:8080/"
        },
        "id": "I0a02LnVyXSv",
        "outputId": "1cdd6aa0-ddc9-41dd-83d2-e6b4e8a360fb"
      },
      "outputs": [
        {
          "output_type": "stream",
          "name": "stdout",
          "text": [
            "[[ 0  1  2  3  4]\n",
            " [ 5  6  7  8  9]\n",
            " [10 11 12 13 14]]\n",
            "Empty DataFrame\n",
            "Columns: [A, B, C, D, E, F]\n",
            "Index: []\n"
          ]
        }
      ],
      "source": [
        "#create a dataframe using numpy array with arrange() and reshape()\n",
        "import numpy as np\n",
        "a=np.arange(15).reshape(3,5)\n",
        "print(a)\n",
        "df3=pd.DataFrame(columns=[\"A\",\"B\",\"C\",\"D\",\"E\",\"F\"])\n",
        "print(df3)"
      ]
    },
    {
      "cell_type": "code",
      "execution_count": null,
      "metadata": {
        "colab": {
          "base_uri": "https://localhost:8080/",
          "height": 220
        },
        "id": "3pFYGU9PzYhp",
        "outputId": "63d1fecb-3cd1-4bf3-9177-67ed257d92e7"
      },
      "outputs": [
        {
          "output_type": "execute_result",
          "data": {
            "text/plain": [
              "Empty DataFrame\n",
              "Columns: []\n",
              "Index: [A, B, C, D, E, F]"
            ],
            "text/html": [
              "\n",
              "  <div id=\"df-8e2aaee2-7730-42d3-814b-02f6de93d296\" class=\"colab-df-container\">\n",
              "    <div>\n",
              "<style scoped>\n",
              "    .dataframe tbody tr th:only-of-type {\n",
              "        vertical-align: middle;\n",
              "    }\n",
              "\n",
              "    .dataframe tbody tr th {\n",
              "        vertical-align: top;\n",
              "    }\n",
              "\n",
              "    .dataframe thead th {\n",
              "        text-align: right;\n",
              "    }\n",
              "</style>\n",
              "<table border=\"1\" class=\"dataframe\">\n",
              "  <thead>\n",
              "    <tr style=\"text-align: right;\">\n",
              "      <th></th>\n",
              "    </tr>\n",
              "  </thead>\n",
              "  <tbody>\n",
              "    <tr>\n",
              "      <th>A</th>\n",
              "    </tr>\n",
              "    <tr>\n",
              "      <th>B</th>\n",
              "    </tr>\n",
              "    <tr>\n",
              "      <th>C</th>\n",
              "    </tr>\n",
              "    <tr>\n",
              "      <th>D</th>\n",
              "    </tr>\n",
              "    <tr>\n",
              "      <th>E</th>\n",
              "    </tr>\n",
              "    <tr>\n",
              "      <th>F</th>\n",
              "    </tr>\n",
              "  </tbody>\n",
              "</table>\n",
              "</div>\n",
              "    <div class=\"colab-df-buttons\">\n",
              "\n",
              "  <div class=\"colab-df-container\">\n",
              "    <button class=\"colab-df-convert\" onclick=\"convertToInteractive('df-8e2aaee2-7730-42d3-814b-02f6de93d296')\"\n",
              "            title=\"Convert this dataframe to an interactive table.\"\n",
              "            style=\"display:none;\">\n",
              "\n",
              "  <svg xmlns=\"http://www.w3.org/2000/svg\" height=\"24px\" viewBox=\"0 -960 960 960\">\n",
              "    <path d=\"M120-120v-720h720v720H120Zm60-500h600v-160H180v160Zm220 220h160v-160H400v160Zm0 220h160v-160H400v160ZM180-400h160v-160H180v160Zm440 0h160v-160H620v160ZM180-180h160v-160H180v160Zm440 0h160v-160H620v160Z\"/>\n",
              "  </svg>\n",
              "    </button>\n",
              "\n",
              "  <style>\n",
              "    .colab-df-container {\n",
              "      display:flex;\n",
              "      gap: 12px;\n",
              "    }\n",
              "\n",
              "    .colab-df-convert {\n",
              "      background-color: #E8F0FE;\n",
              "      border: none;\n",
              "      border-radius: 50%;\n",
              "      cursor: pointer;\n",
              "      display: none;\n",
              "      fill: #1967D2;\n",
              "      height: 32px;\n",
              "      padding: 0 0 0 0;\n",
              "      width: 32px;\n",
              "    }\n",
              "\n",
              "    .colab-df-convert:hover {\n",
              "      background-color: #E2EBFA;\n",
              "      box-shadow: 0px 1px 2px rgba(60, 64, 67, 0.3), 0px 1px 3px 1px rgba(60, 64, 67, 0.15);\n",
              "      fill: #174EA6;\n",
              "    }\n",
              "\n",
              "    .colab-df-buttons div {\n",
              "      margin-bottom: 4px;\n",
              "    }\n",
              "\n",
              "    [theme=dark] .colab-df-convert {\n",
              "      background-color: #3B4455;\n",
              "      fill: #D2E3FC;\n",
              "    }\n",
              "\n",
              "    [theme=dark] .colab-df-convert:hover {\n",
              "      background-color: #434B5C;\n",
              "      box-shadow: 0px 1px 3px 1px rgba(0, 0, 0, 0.15);\n",
              "      filter: drop-shadow(0px 1px 2px rgba(0, 0, 0, 0.3));\n",
              "      fill: #FFFFFF;\n",
              "    }\n",
              "  </style>\n",
              "\n",
              "    <script>\n",
              "      const buttonEl =\n",
              "        document.querySelector('#df-8e2aaee2-7730-42d3-814b-02f6de93d296 button.colab-df-convert');\n",
              "      buttonEl.style.display =\n",
              "        google.colab.kernel.accessAllowed ? 'block' : 'none';\n",
              "\n",
              "      async function convertToInteractive(key) {\n",
              "        const element = document.querySelector('#df-8e2aaee2-7730-42d3-814b-02f6de93d296');\n",
              "        const dataTable =\n",
              "          await google.colab.kernel.invokeFunction('convertToInteractive',\n",
              "                                                    [key], {});\n",
              "        if (!dataTable) return;\n",
              "\n",
              "        const docLinkHtml = 'Like what you see? Visit the ' +\n",
              "          '<a target=\"_blank\" href=https://colab.research.google.com/notebooks/data_table.ipynb>data table notebook</a>'\n",
              "          + ' to learn more about interactive tables.';\n",
              "        element.innerHTML = '';\n",
              "        dataTable['output_type'] = 'display_data';\n",
              "        await google.colab.output.renderOutput(dataTable, element);\n",
              "        const docLink = document.createElement('div');\n",
              "        docLink.innerHTML = docLinkHtml;\n",
              "        element.appendChild(docLink);\n",
              "      }\n",
              "    </script>\n",
              "  </div>\n",
              "\n",
              "\n",
              "    <div id=\"df-51ef04ea-1d9b-4cc0-85ea-764f6f46cf06\">\n",
              "      <button class=\"colab-df-quickchart\" onclick=\"quickchart('df-51ef04ea-1d9b-4cc0-85ea-764f6f46cf06')\"\n",
              "                title=\"Suggest charts\"\n",
              "                style=\"display:none;\">\n",
              "\n",
              "<svg xmlns=\"http://www.w3.org/2000/svg\" height=\"24px\"viewBox=\"0 0 24 24\"\n",
              "     width=\"24px\">\n",
              "    <g>\n",
              "        <path d=\"M19 3H5c-1.1 0-2 .9-2 2v14c0 1.1.9 2 2 2h14c1.1 0 2-.9 2-2V5c0-1.1-.9-2-2-2zM9 17H7v-7h2v7zm4 0h-2V7h2v10zm4 0h-2v-4h2v4z\"/>\n",
              "    </g>\n",
              "</svg>\n",
              "      </button>\n",
              "\n",
              "<style>\n",
              "  .colab-df-quickchart {\n",
              "      --bg-color: #E8F0FE;\n",
              "      --fill-color: #1967D2;\n",
              "      --hover-bg-color: #E2EBFA;\n",
              "      --hover-fill-color: #174EA6;\n",
              "      --disabled-fill-color: #AAA;\n",
              "      --disabled-bg-color: #DDD;\n",
              "  }\n",
              "\n",
              "  [theme=dark] .colab-df-quickchart {\n",
              "      --bg-color: #3B4455;\n",
              "      --fill-color: #D2E3FC;\n",
              "      --hover-bg-color: #434B5C;\n",
              "      --hover-fill-color: #FFFFFF;\n",
              "      --disabled-bg-color: #3B4455;\n",
              "      --disabled-fill-color: #666;\n",
              "  }\n",
              "\n",
              "  .colab-df-quickchart {\n",
              "    background-color: var(--bg-color);\n",
              "    border: none;\n",
              "    border-radius: 50%;\n",
              "    cursor: pointer;\n",
              "    display: none;\n",
              "    fill: var(--fill-color);\n",
              "    height: 32px;\n",
              "    padding: 0;\n",
              "    width: 32px;\n",
              "  }\n",
              "\n",
              "  .colab-df-quickchart:hover {\n",
              "    background-color: var(--hover-bg-color);\n",
              "    box-shadow: 0 1px 2px rgba(60, 64, 67, 0.3), 0 1px 3px 1px rgba(60, 64, 67, 0.15);\n",
              "    fill: var(--button-hover-fill-color);\n",
              "  }\n",
              "\n",
              "  .colab-df-quickchart-complete:disabled,\n",
              "  .colab-df-quickchart-complete:disabled:hover {\n",
              "    background-color: var(--disabled-bg-color);\n",
              "    fill: var(--disabled-fill-color);\n",
              "    box-shadow: none;\n",
              "  }\n",
              "\n",
              "  .colab-df-spinner {\n",
              "    border: 2px solid var(--fill-color);\n",
              "    border-color: transparent;\n",
              "    border-bottom-color: var(--fill-color);\n",
              "    animation:\n",
              "      spin 1s steps(1) infinite;\n",
              "  }\n",
              "\n",
              "  @keyframes spin {\n",
              "    0% {\n",
              "      border-color: transparent;\n",
              "      border-bottom-color: var(--fill-color);\n",
              "      border-left-color: var(--fill-color);\n",
              "    }\n",
              "    20% {\n",
              "      border-color: transparent;\n",
              "      border-left-color: var(--fill-color);\n",
              "      border-top-color: var(--fill-color);\n",
              "    }\n",
              "    30% {\n",
              "      border-color: transparent;\n",
              "      border-left-color: var(--fill-color);\n",
              "      border-top-color: var(--fill-color);\n",
              "      border-right-color: var(--fill-color);\n",
              "    }\n",
              "    40% {\n",
              "      border-color: transparent;\n",
              "      border-right-color: var(--fill-color);\n",
              "      border-top-color: var(--fill-color);\n",
              "    }\n",
              "    60% {\n",
              "      border-color: transparent;\n",
              "      border-right-color: var(--fill-color);\n",
              "    }\n",
              "    80% {\n",
              "      border-color: transparent;\n",
              "      border-right-color: var(--fill-color);\n",
              "      border-bottom-color: var(--fill-color);\n",
              "    }\n",
              "    90% {\n",
              "      border-color: transparent;\n",
              "      border-bottom-color: var(--fill-color);\n",
              "    }\n",
              "  }\n",
              "</style>\n",
              "\n",
              "      <script>\n",
              "        async function quickchart(key) {\n",
              "          const quickchartButtonEl =\n",
              "            document.querySelector('#' + key + ' button');\n",
              "          quickchartButtonEl.disabled = true;  // To prevent multiple clicks.\n",
              "          quickchartButtonEl.classList.add('colab-df-spinner');\n",
              "          try {\n",
              "            const charts = await google.colab.kernel.invokeFunction(\n",
              "                'suggestCharts', [key], {});\n",
              "          } catch (error) {\n",
              "            console.error('Error during call to suggestCharts:', error);\n",
              "          }\n",
              "          quickchartButtonEl.classList.remove('colab-df-spinner');\n",
              "          quickchartButtonEl.classList.add('colab-df-quickchart-complete');\n",
              "        }\n",
              "        (() => {\n",
              "          let quickchartButtonEl =\n",
              "            document.querySelector('#df-51ef04ea-1d9b-4cc0-85ea-764f6f46cf06 button');\n",
              "          quickchartButtonEl.style.display =\n",
              "            google.colab.kernel.accessAllowed ? 'block' : 'none';\n",
              "        })();\n",
              "      </script>\n",
              "    </div>\n",
              "\n",
              "    </div>\n",
              "  </div>\n"
            ],
            "application/vnd.google.colaboratory.intrinsic+json": {
              "type": "dataframe",
              "summary": "{\n  \"name\": \"df3\",\n  \"rows\": 6,\n  \"fields\": []\n}"
            }
          },
          "metadata": {},
          "execution_count": 31
        }
      ],
      "source": [
        "df3.T"
      ]
    },
    {
      "cell_type": "code",
      "execution_count": null,
      "metadata": {
        "colab": {
          "background_save": true,
          "base_uri": "https://localhost:8080/",
          "height": 38
        },
        "id": "cLk1dwEc0m6K",
        "outputId": "3d7cde50-b876-4c69-b4c7-97b7f3513cf5"
      },
      "outputs": [
        {
          "output_type": "display_data",
          "data": {
            "text/plain": [
              "<IPython.core.display.HTML object>"
            ],
            "text/html": [
              "\n",
              "     <input type=\"file\" id=\"files-188c8e43-fda5-4620-bbd1-763d5bbb7260\" name=\"files[]\" multiple disabled\n",
              "        style=\"border:none\" />\n",
              "     <output id=\"result-188c8e43-fda5-4620-bbd1-763d5bbb7260\">\n",
              "      Upload widget is only available when the cell has been executed in the\n",
              "      current browser session. Please rerun this cell to enable.\n",
              "      </output>\n",
              "      <script>// Copyright 2017 Google LLC\n",
              "//\n",
              "// Licensed under the Apache License, Version 2.0 (the \"License\");\n",
              "// you may not use this file except in compliance with the License.\n",
              "// You may obtain a copy of the License at\n",
              "//\n",
              "//      http://www.apache.org/licenses/LICENSE-2.0\n",
              "//\n",
              "// Unless required by applicable law or agreed to in writing, software\n",
              "// distributed under the License is distributed on an \"AS IS\" BASIS,\n",
              "// WITHOUT WARRANTIES OR CONDITIONS OF ANY KIND, either express or implied.\n",
              "// See the License for the specific language governing permissions and\n",
              "// limitations under the License.\n",
              "\n",
              "/**\n",
              " * @fileoverview Helpers for google.colab Python module.\n",
              " */\n",
              "(function(scope) {\n",
              "function span(text, styleAttributes = {}) {\n",
              "  const element = document.createElement('span');\n",
              "  element.textContent = text;\n",
              "  for (const key of Object.keys(styleAttributes)) {\n",
              "    element.style[key] = styleAttributes[key];\n",
              "  }\n",
              "  return element;\n",
              "}\n",
              "\n",
              "// Max number of bytes which will be uploaded at a time.\n",
              "const MAX_PAYLOAD_SIZE = 100 * 1024;\n",
              "\n",
              "function _uploadFiles(inputId, outputId) {\n",
              "  const steps = uploadFilesStep(inputId, outputId);\n",
              "  const outputElement = document.getElementById(outputId);\n",
              "  // Cache steps on the outputElement to make it available for the next call\n",
              "  // to uploadFilesContinue from Python.\n",
              "  outputElement.steps = steps;\n",
              "\n",
              "  return _uploadFilesContinue(outputId);\n",
              "}\n",
              "\n",
              "// This is roughly an async generator (not supported in the browser yet),\n",
              "// where there are multiple asynchronous steps and the Python side is going\n",
              "// to poll for completion of each step.\n",
              "// This uses a Promise to block the python side on completion of each step,\n",
              "// then passes the result of the previous step as the input to the next step.\n",
              "function _uploadFilesContinue(outputId) {\n",
              "  const outputElement = document.getElementById(outputId);\n",
              "  const steps = outputElement.steps;\n",
              "\n",
              "  const next = steps.next(outputElement.lastPromiseValue);\n",
              "  return Promise.resolve(next.value.promise).then((value) => {\n",
              "    // Cache the last promise value to make it available to the next\n",
              "    // step of the generator.\n",
              "    outputElement.lastPromiseValue = value;\n",
              "    return next.value.response;\n",
              "  });\n",
              "}\n",
              "\n",
              "/**\n",
              " * Generator function which is called between each async step of the upload\n",
              " * process.\n",
              " * @param {string} inputId Element ID of the input file picker element.\n",
              " * @param {string} outputId Element ID of the output display.\n",
              " * @return {!Iterable<!Object>} Iterable of next steps.\n",
              " */\n",
              "function* uploadFilesStep(inputId, outputId) {\n",
              "  const inputElement = document.getElementById(inputId);\n",
              "  inputElement.disabled = false;\n",
              "\n",
              "  const outputElement = document.getElementById(outputId);\n",
              "  outputElement.innerHTML = '';\n",
              "\n",
              "  const pickedPromise = new Promise((resolve) => {\n",
              "    inputElement.addEventListener('change', (e) => {\n",
              "      resolve(e.target.files);\n",
              "    });\n",
              "  });\n",
              "\n",
              "  const cancel = document.createElement('button');\n",
              "  inputElement.parentElement.appendChild(cancel);\n",
              "  cancel.textContent = 'Cancel upload';\n",
              "  const cancelPromise = new Promise((resolve) => {\n",
              "    cancel.onclick = () => {\n",
              "      resolve(null);\n",
              "    };\n",
              "  });\n",
              "\n",
              "  // Wait for the user to pick the files.\n",
              "  const files = yield {\n",
              "    promise: Promise.race([pickedPromise, cancelPromise]),\n",
              "    response: {\n",
              "      action: 'starting',\n",
              "    }\n",
              "  };\n",
              "\n",
              "  cancel.remove();\n",
              "\n",
              "  // Disable the input element since further picks are not allowed.\n",
              "  inputElement.disabled = true;\n",
              "\n",
              "  if (!files) {\n",
              "    return {\n",
              "      response: {\n",
              "        action: 'complete',\n",
              "      }\n",
              "    };\n",
              "  }\n",
              "\n",
              "  for (const file of files) {\n",
              "    const li = document.createElement('li');\n",
              "    li.append(span(file.name, {fontWeight: 'bold'}));\n",
              "    li.append(span(\n",
              "        `(${file.type || 'n/a'}) - ${file.size} bytes, ` +\n",
              "        `last modified: ${\n",
              "            file.lastModifiedDate ? file.lastModifiedDate.toLocaleDateString() :\n",
              "                                    'n/a'} - `));\n",
              "    const percent = span('0% done');\n",
              "    li.appendChild(percent);\n",
              "\n",
              "    outputElement.appendChild(li);\n",
              "\n",
              "    const fileDataPromise = new Promise((resolve) => {\n",
              "      const reader = new FileReader();\n",
              "      reader.onload = (e) => {\n",
              "        resolve(e.target.result);\n",
              "      };\n",
              "      reader.readAsArrayBuffer(file);\n",
              "    });\n",
              "    // Wait for the data to be ready.\n",
              "    let fileData = yield {\n",
              "      promise: fileDataPromise,\n",
              "      response: {\n",
              "        action: 'continue',\n",
              "      }\n",
              "    };\n",
              "\n",
              "    // Use a chunked sending to avoid message size limits. See b/62115660.\n",
              "    let position = 0;\n",
              "    do {\n",
              "      const length = Math.min(fileData.byteLength - position, MAX_PAYLOAD_SIZE);\n",
              "      const chunk = new Uint8Array(fileData, position, length);\n",
              "      position += length;\n",
              "\n",
              "      const base64 = btoa(String.fromCharCode.apply(null, chunk));\n",
              "      yield {\n",
              "        response: {\n",
              "          action: 'append',\n",
              "          file: file.name,\n",
              "          data: base64,\n",
              "        },\n",
              "      };\n",
              "\n",
              "      let percentDone = fileData.byteLength === 0 ?\n",
              "          100 :\n",
              "          Math.round((position / fileData.byteLength) * 100);\n",
              "      percent.textContent = `${percentDone}% done`;\n",
              "\n",
              "    } while (position < fileData.byteLength);\n",
              "  }\n",
              "\n",
              "  // All done.\n",
              "  yield {\n",
              "    response: {\n",
              "      action: 'complete',\n",
              "    }\n",
              "  };\n",
              "}\n",
              "\n",
              "scope.google = scope.google || {};\n",
              "scope.google.colab = scope.google.colab || {};\n",
              "scope.google.colab._files = {\n",
              "  _uploadFiles,\n",
              "  _uploadFilesContinue,\n",
              "};\n",
              "})(self);\n",
              "</script> "
            ]
          },
          "metadata": {}
        }
      ],
      "source": [
        "#imort local machine dataset into colab notebook\n",
        "import io\n",
        "import pandas as pd\n",
        "from google.colab import files\n",
        "uploaded=files.upload()\n",
        "df5=pd.read_csv(io.BytesIO(uploaded['MarketingData1.csv']))\n",
        "print(df5)"
      ]
    },
    {
      "cell_type": "code",
      "execution_count": null,
      "metadata": {
        "id": "Bq6pJfTXMFSm"
      },
      "outputs": [],
      "source": [
        "df5.head()"
      ]
    },
    {
      "cell_type": "code",
      "execution_count": null,
      "metadata": {
        "id": "3-Sv2gfPXFSH"
      },
      "outputs": [],
      "source": [
        "#bottom 5 records\n",
        "df5.tail()"
      ]
    },
    {
      "cell_type": "code",
      "execution_count": null,
      "metadata": {
        "id": "Y8qqm6rsYHVk"
      },
      "outputs": [],
      "source": [
        "#display no of columns in a data frame\n",
        "df5.shape[1]"
      ]
    },
    {
      "cell_type": "code",
      "execution_count": null,
      "metadata": {
        "id": "jDkew18OYbwQ"
      },
      "outputs": [],
      "source": [
        "#display no of samples in data frame\n",
        "df5.shape[0]"
      ]
    },
    {
      "cell_type": "code",
      "execution_count": null,
      "metadata": {
        "id": "7gCyqbfSYj1t"
      },
      "outputs": [],
      "source": [
        "#display information about metadata about dataframe\n",
        "print(df5.info())"
      ]
    },
    {
      "cell_type": "code",
      "execution_count": null,
      "metadata": {
        "id": "MSzQ4-6aZt6E"
      },
      "outputs": [],
      "source": [
        "#display summary of statistics--IQR(interquartile range)\n",
        "print(df5.describe())"
      ]
    },
    {
      "cell_type": "code",
      "execution_count": null,
      "metadata": {
        "id": "Bvw9YKndZZlR"
      },
      "outputs": [],
      "source": [
        "#display top 50 samples\n",
        "print(df5.head(50))"
      ]
    },
    {
      "cell_type": "code",
      "execution_count": null,
      "metadata": {
        "id": "mCUGyYXOY3gV"
      },
      "outputs": [],
      "source": [
        "#display top 50 Visitors column\n",
        "df5.Visitors.head(50)"
      ]
    },
    {
      "cell_type": "code",
      "execution_count": null,
      "metadata": {
        "id": "HwtDA0Q6bwzi"
      },
      "outputs": [],
      "source": [
        "#display top 15 samples related to Marketing Spend.\n",
        "df5['Marketing Spend'].head(15)"
      ]
    },
    {
      "cell_type": "code",
      "execution_count": null,
      "metadata": {
        "id": "866YimHJcB5-"
      },
      "outputs": [],
      "source": [
        "#display top 15 samples related to Revenue generated.\n",
        "df5[\"Revenue\"].head(15)"
      ]
    },
    {
      "cell_type": "code",
      "execution_count": null,
      "metadata": {
        "id": "8zHUNq5Sc722"
      },
      "outputs": [],
      "source": [
        "#display 3 columns data from visitors,revenue,marketing spend.\n",
        "df5[[\"Visitors\",\"Revenue\",\"Marketing Spend\"]]"
      ]
    },
    {
      "cell_type": "code",
      "execution_count": null,
      "metadata": {
        "id": "fZXcdFY2dsrK"
      },
      "outputs": [],
      "source": [
        "#find the sum of values in visitors column\n",
        "print(\"sum of visitors:\\n\",df5.Visitors.sum())"
      ]
    },
    {
      "cell_type": "code",
      "execution_count": null,
      "metadata": {
        "id": "Bj8mu3iKeHMq"
      },
      "outputs": [],
      "source": [
        "#find the sum of revenue in revenue column\n",
        "print(\"sum of revenue:\\n\",df5[\"Revenue\"].sum())"
      ]
    },
    {
      "cell_type": "code",
      "execution_count": null,
      "metadata": {
        "id": "K-oYMMbWeMmx"
      },
      "outputs": [],
      "source": [
        "#find the sum of marketing spend\n",
        "print(\"sum of marketing spend:\\n\",df5[\"Marketing Spend\"].sum())"
      ]
    },
    {
      "cell_type": "code",
      "execution_count": null,
      "metadata": {
        "id": "-U2J0MQbeaum"
      },
      "outputs": [],
      "source": [
        "#row filtering\n",
        "#display rows from 0 to 4\n",
        "df5[0:5]"
      ]
    },
    {
      "cell_type": "code",
      "execution_count": null,
      "metadata": {
        "id": "mM1VGeJoelbb"
      },
      "outputs": [],
      "source": [
        "#display rows from 0 to 8\n"
      ]
    },
    {
      "cell_type": "code",
      "execution_count": null,
      "metadata": {
        "id": "unx2X3bbfMz5"
      },
      "outputs": [],
      "source": [
        "def head_cust(df):\n",
        "  print(df[0:5])"
      ]
    },
    {
      "cell_type": "code",
      "execution_count": null,
      "metadata": {
        "id": "kIDENliEfQb2"
      },
      "outputs": [],
      "source": [
        "#call head_cust(df)\n",
        "head_cust(df5)"
      ]
    },
    {
      "cell_type": "code",
      "execution_count": null,
      "metadata": {
        "id": "fsKtQWvAhNIG"
      },
      "outputs": [],
      "source": [
        "def tail_cust(df):\n",
        "  print(df[-5:])"
      ]
    },
    {
      "cell_type": "code",
      "execution_count": null,
      "metadata": {
        "id": "KcrBAPvviKgu"
      },
      "outputs": [],
      "source": [
        "tail_cust(df5)"
      ]
    },
    {
      "cell_type": "code",
      "execution_count": null,
      "metadata": {
        "id": "xjvsl2uViVLa"
      },
      "outputs": [],
      "source": [
        "#select all the data when the day is Monday\n",
        "print(df5[df5.Day_Name==\"Monday\"])"
      ]
    },
    {
      "cell_type": "code",
      "execution_count": null,
      "metadata": {
        "id": "iZYNebXwiyRa"
      },
      "outputs": [],
      "source": [
        "#display samples where day names are saturday,sunday\n",
        "print(df5[(df5.Day_Name==\"Saturday\")|(df5.Day_Name==\"Sunday\")])"
      ]
    },
    {
      "cell_type": "code",
      "execution_count": null,
      "metadata": {
        "id": "xjBcA2rCjo-b"
      },
      "outputs": [],
      "source": [
        "#display the samples from the dataframe where marketing spend is greater than 1000 and promo is equal to no promo\n",
        "print(df5[(df5['Marketing Spend'] > 1000) & (df5['Promo'] == 'No Promo')])"
      ]
    },
    {
      "cell_type": "code",
      "execution_count": null,
      "metadata": {
        "id": "IWQUGqfZki1B"
      },
      "outputs": [],
      "source": [
        "#display the samples from the df5 where revenue is >2000 and marketing spend is > 1000\n",
        "print(df5[(df5['Revenue'] > 2000) & (df5['Marketing Spend'] >1000)])"
      ]
    },
    {
      "cell_type": "code",
      "execution_count": null,
      "metadata": {
        "id": "DGn2DPm2lERD"
      },
      "outputs": [],
      "source": [
        "#display df5 samples in sorted order with date column\n",
        "print(df5.sort_values(by=\"Date\",ascending=False).head(10))"
      ]
    },
    {
      "cell_type": "code",
      "execution_count": null,
      "metadata": {
        "id": "_113prAtOTwA"
      },
      "outputs": [],
      "source": [
        "#display line graph age vs weight using matplotlib\n",
        "import matplotlib.pyplot as plt\n",
        "age=[20,21,19,22,23,25,30]\n",
        "weight=[45,20,40,52,25,60,70]\n",
        "plt.plot(age,weight)\n",
        "plt.show()"
      ]
    },
    {
      "cell_type": "code",
      "execution_count": null,
      "metadata": {
        "id": "1pbmgdhBdvlx"
      },
      "outputs": [],
      "source": [
        "#use or apply xlabel and ylabel and title for the above graph\n",
        "import matplotlib.pyplot as plt\n",
        "age=[20,21,19,22,23,25,30]\n",
        "weight=[45,20,40,52,25,60,25]\n",
        "plt.plot(age,weight)\n",
        "plt.xlabel(\"AGE OF THE PERSON\")\n",
        "plt.ylabel(\"WEIGHT OF THE PERSON\")\n",
        "plt.title(\"AGE VS WEIGHT\")\n",
        "plt.show()"
      ]
    },
    {
      "cell_type": "code",
      "execution_count": null,
      "metadata": {
        "id": "yzu2g_YOiBpR"
      },
      "outputs": [],
      "source": [
        "import matplotlib.pyplot as plt\n",
        "age=[20,21,22,23,25,30]\n",
        "weight=[45,46,47,52,55,60]\n",
        "plt.plot(age,weight)\n",
        "plt.xlabel(\"AGE OF THE PERSON\")\n",
        "plt.ylabel(\"WEIGHT OF THE PERSON\")\n",
        "plt.title(\"AGE VS WEIGHT\")\n",
        "plt.show()"
      ]
    },
    {
      "cell_type": "code",
      "execution_count": null,
      "metadata": {
        "id": "DdWLxYo-jdnM"
      },
      "outputs": [],
      "source": [
        "#to the above scenario additionally take height of the candidate and display x-axis is age  and y and z axis on y label\n",
        "import matplotlib.pyplot as plt\n",
        "age=[20,21,19,22,23,25,30]\n",
        "weight=[45,20,40,52,55,60]\n",
        "height=[150,155,160,165,170,175]\n",
        "plt.plot(age,weight)\n",
        "plt.plot(age,height)\n",
        "plt.xlabel(\"AGE OF THE PERSON\")\n",
        "plt.ylabel(\"WEIGHT and HEIGHT OF THE PERSON\")\n",
        "plt.title(\"AGE VS WEIGHT vs HEIGHT\")\n",
        "plt.show()"
      ]
    },
    {
      "cell_type": "code",
      "execution_count": null,
      "metadata": {
        "id": "pLLbuZK6kwpO"
      },
      "outputs": [],
      "source": [
        "#add the legend to the above graph: legend is used to indicate which color is for what feature\n"
      ]
    },
    {
      "cell_type": "code",
      "execution_count": null,
      "metadata": {
        "id": "P8ShlWn4lpH3"
      },
      "outputs": [],
      "source": [
        "#color and plot representation\n",
        "import matplotlib.pyplot as plt\n",
        "\n",
        "age=[20,21,22,23,25,30]\n",
        "\n",
        "weight=[45,46,47,52,55,60]\n",
        "\n",
        "height=[150,155, 160, 165, 170, 175]\n",
        "\n",
        "plt.plot(age, weight, label=\"weight\", color=\"m\") #age vs weight\n",
        "\n",
        "plt.plot(age,height, label=\"height\", color=\"c\") #age vs height\n",
        "\n",
        "plt.xlabel(\"AGE OF THE PERSON\")\n",
        "\n",
        "plt.ylabel(\"Weight & Height of the PERSON\")\n",
        "\n",
        "plt.title(\"AGE VS WEIGHT vs HEIGHT\")\n",
        "\n",
        "plt.legend([\"WEIGHT\", \"HEIGHT\"])\n",
        "\n",
        "plt.show()"
      ]
    },
    {
      "cell_type": "code",
      "execution_count": null,
      "metadata": {
        "id": "fTFvp3X4njL3"
      },
      "outputs": [],
      "source": [
        "#use markers to specify intersect point in the graph\n",
        "import matplotlib.pyplot as plt\n",
        "\n",
        "age=[20,21,22,23,25,30]\n",
        "\n",
        "weight=[45,46,47,52,55,60]\n",
        "\n",
        "height=[150,155, 160, 165, 170, 175]\n",
        "\n",
        "plt.plot(age, weight, label=\"weight\", color=\"m\",marker=\"*\") #age vs weight\n",
        "plt.plot(age,height, label=\"height\", color=\"c\",marker=\"p\") #age vs height\n",
        "plt.xlabel(\"AGE OF THE PERSON\")\n",
        "plt.ylabel(\"Weight & Height of the PERSON\")\n",
        "plt.title(\"AGE VS WEIGHT vs HEIGHT\")\n",
        "plt.legend([\"WEIGHT\", \"HEIGHT\"])\n",
        "\n",
        "plt.show()"
      ]
    },
    {
      "cell_type": "code",
      "execution_count": null,
      "metadata": {
        "id": "PQGVNNU-obG4"
      },
      "outputs": [],
      "source": [
        "#line styles\n",
        "import matplotlib.pyplot as plt\n",
        "\n",
        "age=[20,21,22,23,25,30]\n",
        "weight=[45,46,47,52,55,60]\n",
        "height=[150,155, 160, 165, 170, 175]\n",
        "\n",
        "plt.plot(age, weight, label=\"weight\", color=\"m\",marker=\"*\",linestyle=\"--\") #age vs weight\n",
        "plt.plot(age,height, label=\"height\", color=\"c\",marker=\"p\",linestyle=\"-.\") #age vs height\n",
        "plt.xlabel(\"AGE OF THE PERSON\")\n",
        "plt.ylabel(\"Weight & Height of the PERSON\")\n",
        "plt.title(\"AGE VS WEIGHT vs HEIGHT\")\n",
        "plt.legend([\"WEIGHT\", \"HEIGHT\"])\n",
        "\n",
        "plt.show()"
      ]
    },
    {
      "cell_type": "code",
      "execution_count": null,
      "metadata": {
        "id": "cRh-Zq6ophO3"
      },
      "outputs": [],
      "source": [
        "#line width in graph\n",
        "#use markers to specify intersect point in the graph\n",
        "import matplotlib.pyplot as plt\n",
        "\n",
        "age=[20,21,22,23,25,30]\n",
        "\n",
        "weight=[45,46,47,52,55,60]\n",
        "\n",
        "height=[150,155, 160, 165, 170, 175]\n",
        "\n",
        "plt.plot(age, weight, label=\"weight\", color=\"m\",marker=\"*\",linestyle=\"--\",linewidth=5) #age vs weight\n",
        "plt.plot(age,height, label=\"height\", color=\"c\",marker=\"p\",linestyle=\"-.\",linewidth=2) #age vs height\n",
        "plt.xlabel(\"AGE OF THE PERSON\")\n",
        "plt.ylabel(\"Weight & Height of the PERSON\")\n",
        "plt.title(\"AGE VS WEIGHT vs HEIGHT\")\n",
        "plt.legend([\"WEIGHT\", \"HEIGHT\"])\n",
        "\n",
        "plt.show()"
      ]
    },
    {
      "cell_type": "code",
      "execution_count": null,
      "metadata": {
        "id": "HzAfFtH9pC-K"
      },
      "outputs": [],
      "source": [
        "#use grid() function to make entire rows and columns\n",
        "#line width in graph\n",
        "#use markers to specify intersect point in the graph\n",
        "import matplotlib.pyplot as plt\n",
        "\n",
        "age=[20,21,22,23,25,30]\n",
        "\n",
        "weight=[45,46,47,52,55,60]\n",
        "\n",
        "height=[150,155, 160, 165, 170, 175]\n",
        "\n",
        "plt.plot(age, weight, label=\"weight\", color=\"m\",marker=\"*\",linestyle=\"--\",linewidth=5) #age vs weight\n",
        "plt.plot(age,height, label=\"height\", color=\"r\",marker=\"p\",linestyle=\"-.\",linewidth=2) #age vs height\n",
        "plt.xlabel(\"AGE OF THE PERSON\")\n",
        "plt.ylabel(\"Weight & Height of the PERSON\")\n",
        "plt.title(\"AGE VS WEIGHT vs HEIGHT\")\n",
        "plt.legend([\"WEIGHT\", \"HEIGHT\"])\n",
        "plt.grid(linewidth=2,color='c',linestyle=':')\n",
        "plt.show()"
      ]
    },
    {
      "cell_type": "code",
      "execution_count": null,
      "metadata": {
        "id": "P9HtVzGCrQHI"
      },
      "outputs": [],
      "source": []
    },
    {
      "cell_type": "markdown",
      "metadata": {
        "id": "JyVdNVd5rVnU"
      },
      "source": [
        "#pie chart:\n",
        "where  the slices will be ordered and plotted counter clock wise\n"
      ]
    },
    {
      "cell_type": "code",
      "execution_count": null,
      "metadata": {
        "id": "DNxgwXDJrgQB"
      },
      "outputs": [],
      "source": [
        "branches=[\"CSE\",\"ECE\",\"EEE\",\"MECH\",\"CIVIL\",\"AIML\",\"DSML\",\"IOT\"]\n",
        "pass_percentages=[80,82,85,65,55,75,78,59,82]\n",
        "plt.pie(pass_percentages,labels=branches,autocpt='%1.1f%%')\n",
        "#plt.legend()\n",
        "plt.show()"
      ]
    },
    {
      "cell_type": "markdown",
      "metadata": {
        "id": "wMKYhf57rxON"
      },
      "source": [
        "#DATA COLLECTION METHODS FOR DATA ANALYTICS"
      ]
    },
    {
      "cell_type": "code",
      "execution_count": null,
      "metadata": {
        "id": "c74d5VVgr6fJ"
      },
      "outputs": [],
      "source": [
        "#USING GOOGLE.COLAB\n",
        "#Dataset is exist in local hard disk drive\n",
        "#following packages and modules required to import datasets\n",
        "#import .csv files\n",
        "import pandas as pd\n",
        "from google.colab import files"
      ]
    },
    {
      "cell_type": "code",
      "execution_count": null,
      "metadata": {
        "id": "cEkVixEEsVmd"
      },
      "outputs": [],
      "source": [
        "import io\n",
        "uploaded=files.upload() # import local file to colab file\n"
      ]
    },
    {
      "cell_type": "code",
      "execution_count": null,
      "metadata": {
        "id": "iyUBQivys6ll"
      },
      "outputs": [],
      "source": [
        "df=pd.read_csv(io.StringIO(uploaded['Salaries1.csv'].decode('utf-8')))"
      ]
    },
    {
      "cell_type": "code",
      "execution_count": null,
      "metadata": {
        "id": "lLsaNrYe783o"
      },
      "outputs": [],
      "source": [
        "df.head()"
      ]
    },
    {
      "cell_type": "code",
      "execution_count": null,
      "metadata": {
        "id": "b9Yhe8SH8UPa"
      },
      "outputs": [],
      "source": [
        "df.tail()"
      ]
    },
    {
      "cell_type": "code",
      "execution_count": null,
      "metadata": {
        "id": "2ReWfrXC8YJ8"
      },
      "outputs": [],
      "source": [
        "df.describe()"
      ]
    },
    {
      "cell_type": "code",
      "execution_count": null,
      "metadata": {
        "id": "Z_pUrdJ28dB_"
      },
      "outputs": [],
      "source": [
        "df.shape[0]\n",
        "df.shape[1]"
      ]
    },
    {
      "cell_type": "code",
      "execution_count": null,
      "metadata": {
        "id": "Q7dLYgEo8tCv"
      },
      "outputs": [],
      "source": [
        "df.columns"
      ]
    },
    {
      "cell_type": "code",
      "execution_count": null,
      "metadata": {
        "id": "GhjIOHwT9jZH"
      },
      "outputs": [],
      "source": [
        "df.index"
      ]
    },
    {
      "cell_type": "code",
      "execution_count": null,
      "metadata": {
        "id": "7Oq0Hryd9p5T"
      },
      "outputs": [],
      "source": [
        "df.dtypes"
      ]
    },
    {
      "cell_type": "code",
      "execution_count": null,
      "metadata": {
        "id": "tcUgYMfG99PG"
      },
      "outputs": [],
      "source": [
        "df['salary'].mean()\n",
        "df['salary'].mode()"
      ]
    },
    {
      "cell_type": "code",
      "execution_count": null,
      "metadata": {
        "id": "Rd92tg4M-NGx"
      },
      "outputs": [],
      "source": [
        "df['salary'].value_counts().tail(1)"
      ]
    },
    {
      "cell_type": "code",
      "execution_count": null,
      "metadata": {
        "id": "WqgSzmbmACkk"
      },
      "outputs": [],
      "source": [
        "df['salary'].sum()"
      ]
    },
    {
      "cell_type": "code",
      "execution_count": null,
      "metadata": {
        "id": "3y2H7MYZAU-D"
      },
      "outputs": [],
      "source": [
        "df['salary'].min()"
      ]
    },
    {
      "cell_type": "code",
      "execution_count": null,
      "metadata": {
        "id": "YGyqW6WyBngJ"
      },
      "outputs": [],
      "source": [
        "df['salary'].max()"
      ]
    },
    {
      "cell_type": "code",
      "execution_count": null,
      "metadata": {
        "id": "Q9w7yTQ0B1uY"
      },
      "outputs": [],
      "source": [
        "df.groupby('service')['salary'].sum()\n",
        "print(df.salary)\n",
        "print(df.service)"
      ]
    },
    {
      "cell_type": "code",
      "execution_count": null,
      "metadata": {
        "id": "A5tx_YlIsnl6"
      },
      "outputs": [],
      "source": [
        "from google.colab import drive\n",
        "drive.mount('/content/drive/')"
      ]
    },
    {
      "cell_type": "code",
      "execution_count": null,
      "metadata": {
        "id": "n2PGlhY2spfr"
      },
      "outputs": [],
      "source": [
        "df=pd.read_csv(\"/content/drive/MyDrive/Colab Notebooks/Salary_Data.csv\")"
      ]
    },
    {
      "cell_type": "code",
      "execution_count": null,
      "metadata": {
        "id": "_NgTFLiZxNLj"
      },
      "outputs": [],
      "source": [
        "from google.colab import drive\n",
        "drive.mount('/content/drive/')"
      ]
    },
    {
      "cell_type": "code",
      "execution_count": null,
      "metadata": {
        "id": "sGbhMeRZxPAw"
      },
      "outputs": [],
      "source": [
        "df=pd.read_csv(\"/content/drive/MyDrive/Colab Notebooks/Customer_Churn_Data.xlsx\",sheet_name=\"Data for DSBA\",usecols=['AccountID','Churn','Tenure','City_Tier'])"
      ]
    },
    {
      "cell_type": "code",
      "execution_count": null,
      "metadata": {
        "id": "Z4LKiz6iyjLs"
      },
      "outputs": [],
      "source": [
        "print(df.head())"
      ]
    },
    {
      "cell_type": "markdown",
      "metadata": {
        "id": "GUedSqI6yoyv"
      },
      "source": [
        "#EXTRACT DATA FROM THE TABLE WHICH IS HOSTED OVER WEB"
      ]
    },
    {
      "cell_type": "code",
      "execution_count": null,
      "metadata": {
        "id": "014TdLxTzZZ4"
      },
      "outputs": [],
      "source": [
        "#read_table()\n",
        "df=pd.read_table('https://raw.githubusercontent.com/justmarkham/DAT8/master/data/chipotle.tsv',sep=\"\\t\")\n",
        "print(df.head())"
      ]
    },
    {
      "cell_type": "code",
      "execution_count": null,
      "metadata": {
        "id": "XOaCES9x0RsH"
      },
      "outputs": [],
      "source": [
        "#ex2\n",
        "df2=pd.read_table('https://raw.githubusercontent.com/justmarkham/DAT8/master/data/chipotle.tsv',sep=\"|\")\n",
        "print(df2.head())"
      ]
    },
    {
      "cell_type": "code",
      "execution_count": null,
      "metadata": {
        "id": "tpbCuYuw1urB"
      },
      "outputs": [],
      "source": []
    },
    {
      "cell_type": "markdown",
      "metadata": {
        "id": "CfBWO0OW1vjy"
      },
      "source": [
        "#EXTRACT DATA FROM MYSQL DATABASE AND CONVERT INTO DATA FRAME\n",
        "NOTE:colab tool cannot communicate with mysql local database\n",
        "use pycharm to extract data from mysql"
      ]
    },
    {
      "cell_type": "code",
      "execution_count": null,
      "metadata": {
        "id": "LKRlD9Ys14SI"
      },
      "outputs": [],
      "source": [
        "!pip install pymysql\n",
        "import pymysql\n",
        "import pandas as pd"
      ]
    },
    {
      "cell_type": "code",
      "execution_count": null,
      "metadata": {
        "id": "-bNh8kxe5RkL"
      },
      "outputs": [],
      "source": []
    },
    {
      "cell_type": "code",
      "execution_count": null,
      "metadata": {
        "id": "2rb_nhCs27Ch"
      },
      "outputs": [],
      "source": [
        "db_con=pymysql.connect(host=\"localhost\",user=\"root\",password=\"sree@0809\")\n",
        "db_cus=db_con.cursor()\n",
        "db_cus.execute(\"select * from student_details\")\n",
        "table_data=db_cus.fetchall()\n",
        "df=pd.DataFrame(table_data)\n",
        "print(df.head())"
      ]
    },
    {
      "cell_type": "code",
      "execution_count": null,
      "metadata": {
        "id": "iWUlCfFW9gaW"
      },
      "outputs": [],
      "source": []
    },
    {
      "cell_type": "markdown",
      "metadata": {
        "id": "wL22LEdV5TCd"
      },
      "source": [
        "#Extract Data from Mongodb and convert into dataframe"
      ]
    },
    {
      "cell_type": "code",
      "execution_count": null,
      "metadata": {
        "id": "9dJyPeFm6vAw"
      },
      "outputs": [],
      "source": [
        "import pymongo\n",
        "import pandas as pd\n",
        "conn=pymongo.MongoClient(\"mongodb://localhost:27017/\")\n",
        "db=conn.ACT_DB\n",
        "coll=db.STUDENT_DETAILS\n",
        "df=pd.DataFrame(list(coll.find()))\n",
        "print(df.head())"
      ]
    },
    {
      "cell_type": "markdown",
      "metadata": {
        "id": "Zp8opNei9hjb"
      },
      "source": [
        "# DATA EXTRACTION FROM HTML PAGE AND CONVERT AS DATA FRAME\n"
      ]
    },
    {
      "cell_type": "code",
      "execution_count": null,
      "metadata": {
        "id": "1yDVc0fQ9rH6"
      },
      "outputs": [],
      "source": [
        "import pandas as pd\n",
        "data_url=\"https://www.w3schools.com/html/html_tables.asp\"\n",
        "#parse the html tables and return as a list of dat frames\n",
        "html_tables=pd.read_html(data_url)\n",
        "#first table need to shown from the webpage\n",
        "f_table=html_tables[0]\n",
        "#print the datetype\n",
        "print(type(f_table))\n",
        "print(f_table)"
      ]
    },
    {
      "cell_type": "code",
      "execution_count": null,
      "metadata": {
        "id": "OJ1LvCKw6pgp"
      },
      "outputs": [],
      "source": [
        "#pandas\n",
        "import pandas as pd\n",
        "data_url=\"https://testautomationpractice.blogspot.com/\"\n",
        "tables=pd.read_html(data_url)\n",
        "#first table need to shown from the webpage\n",
        "f_table=tables[0]\n",
        "f_table1=tables[1]\n",
        "f_table2=tables[2]\n",
        "#print the datetype\n",
        "print(type(f_table))\n",
        "print(type(f_table1))\n",
        "print(type(f_table2))\n",
        "print(f_table)\n",
        "print(f_table1)\n",
        "print(f_table2)"
      ]
    },
    {
      "cell_type": "code",
      "execution_count": null,
      "metadata": {
        "id": "Q1e0DTFqmM0d"
      },
      "outputs": [],
      "source": [
        "import pandas as pd\n",
        "data_url=\"https://www.runnersworld.com/races-places/a20823734/these-are-the-worlds-fastest-marathoners-and-marathon-courses/\"\n",
        "#parse the html tables and return as list of dataframes\n",
        "html_tables=pd.read_html(data_url,header=0)\n",
        "#first table need to shown from the webpage\n",
        "f_table=html_tables[2]\n",
        "#print the datatype\n",
        "print(type(f_table))\n",
        "print(f_table)"
      ]
    },
    {
      "cell_type": "markdown",
      "metadata": {
        "id": "wjn2jSH1jua8"
      },
      "source": [
        "#DATA EXTRACTION FROM API JSON"
      ]
    },
    {
      "cell_type": "code",
      "execution_count": null,
      "metadata": {
        "id": "_BHTDD3cj100"
      },
      "outputs": [],
      "source": [
        "import requests as req\n",
        "import pandas as pd\n",
        "import json\n",
        "\n",
        "\n",
        "res = req.get('https://jsonplaceholder.org/users')\n",
        "data = res.text\n",
        "\n",
        "df = pd.DataFrame(json.loads(data))\n",
        "print(df.tail())"
      ]
    },
    {
      "cell_type": "code",
      "execution_count": null,
      "metadata": {
        "id": "yNpeJPRdmo3L"
      },
      "outputs": [],
      "source": [
        "# Use DataFrame.from_dict()\n",
        "# To convert JSON to DataFrame\n",
        "import pandas as pd\n",
        "import json\n",
        "from pandas import json_normalize\n",
        "json_string = '{ \"Courses\": \"Spark\", \"Fee\": 22000,\"Duration\":\"40Days\"}'\n",
        "data = json.loads(json_string)\n",
        "\n",
        "# Use pandas.DataFrame.from_dict()\n",
        "# To Convert JSON to DataFrame\n",
        "df2 = pd.DataFrame.from_dict(data, orient=\"index\")\n",
        "print(df2)"
      ]
    },
    {
      "cell_type": "code",
      "execution_count": null,
      "metadata": {
        "id": "MAfP4yNOnALK"
      },
      "outputs": [],
      "source": [
        "import pandas as pd\n",
        "import json\n",
        "from pandas import json_normalize\n",
        "data = '''\n",
        "{\n",
        "\"technologies\":\n",
        "         [\n",
        "         { \"Courses\": \"Spark\", \"Fee\": 22000,\"Duration\":\"40Days\"},\n",
        "         { \"Courses\": \"PySpark\",\"Fee\": 25000,\"Duration\":\"60Days\"},\n",
        "         { \"Courses\": \"Hadoop\", \"Fee\": 23000,\"Duration\":\"50Days\"}\n",
        "         ],\n",
        "\"status\": [\"ok\"]\n",
        "}\n",
        "'''\n",
        "print(\"Create JSON data:\\n\", data)"
      ]
    },
    {
      "cell_type": "code",
      "execution_count": null,
      "metadata": {
        "id": "I-ba7SC_nNPV"
      },
      "outputs": [],
      "source": [
        "# Use json_normalize() to convert JSON to DataFrame\n",
        "dict = json.loads(data)\n",
        "df2 = json_normalize(dict['technologies'])\n",
        "print(\"After converting JSON data to DataFrame:\\n\", df2)"
      ]
    },
    {
      "cell_type": "code",
      "execution_count": null,
      "metadata": {
        "id": "1XsCCfTtopDj"
      },
      "outputs": [],
      "source": [
        "import pandas as pd\n",
        "\n",
        "url = \"https://archive-api.open-meteo.com/v1/era5?latitude=52.52\" +\\\n",
        "  \t\"&longitude=13.41&start_date=2021-01-01&end_date=2021-12-31&hourly=temperature_2m\"\n",
        "\n",
        "df=pd.read_json(url)\n",
        "df.head()"
      ]
    },
    {
      "cell_type": "code",
      "execution_count": null,
      "metadata": {
        "id": "F0EIVtJ9toRy"
      },
      "outputs": [],
      "source": [
        "import pandas as pd\n",
        "url=\"https://dummyjson.com/products\"\n",
        "df=pd.read_json(url)"
      ]
    },
    {
      "cell_type": "code",
      "execution_count": null,
      "metadata": {
        "id": "DqhQ3Rw9r9T7"
      },
      "outputs": [],
      "source": [
        "import numpy as np\n",
        "import pandas as pd"
      ]
    }
  ],
  "metadata": {
    "colab": {
      "provenance": []
    },
    "kernelspec": {
      "display_name": "Python 3",
      "name": "python3"
    },
    "language_info": {
      "name": "python"
    }
  },
  "nbformat": 4,
  "nbformat_minor": 0
}